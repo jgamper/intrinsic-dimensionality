{
 "cells": [
  {
   "cell_type": "markdown",
   "metadata": {},
   "source": [
    "## Intrinsic Dimension : Proof of Concept"
   ]
  },
  {
   "cell_type": "markdown",
   "metadata": {},
   "source": [
    "This just demonstrates that the Intrinsic Dimension idea works for a simple MNIST-CNN model.\n",
    "\n",
    "Of possible interest : This PyTorch version is 'generic' in the sense that it should be able\n",
    "to take arbitrary parameterised models and investigate their Intrinsic Dimension (without\n",
    "writing specialised `Module_IntrinsicDimension` classes for each module type)."
   ]
  },
  {
   "cell_type": "code",
   "execution_count": 1,
   "metadata": {},
   "outputs": [],
   "source": [
    "import torch\n",
    "import torch.nn.functional as F\n",
    "from torchvision import datasets, transforms\n",
    "import os\n",
    "\n",
    "mnist_root = '/home/jevjev/Dropbox/Projects/datasets'"
   ]
  },
  {
   "cell_type": "code",
   "execution_count": 2,
   "metadata": {},
   "outputs": [],
   "source": [
    "n_epochs = 20\n",
    "batch_size, batch_log_interval, lr = 32, 600, 0.01\n",
    "seed = 10\n",
    "\n",
    "try_cuda = True"
   ]
  },
  {
   "cell_type": "code",
   "execution_count": 3,
   "metadata": {},
   "outputs": [],
   "source": [
    "use_cuda = try_cuda and torch.cuda.is_available()\n",
    "torch.manual_seed(seed)\n",
    "\n",
    "device = torch.device(\"cuda\" if use_cuda else \"cpu\")"
   ]
  },
  {
   "cell_type": "code",
   "execution_count": 4,
   "metadata": {},
   "outputs": [],
   "source": [
    "loader_kwargs = {'num_workers': 1, 'pin_memory': True} if use_cuda else {}\n",
    "\n",
    "mnist_transform = transforms.Compose([\n",
    "                       transforms.ToTensor(),\n",
    "                       transforms.Normalize((0.1307,), (0.3081,))\n",
    "                   ])\n",
    "\n",
    "train_loader = torch.utils.data.DataLoader(\n",
    "    datasets.MNIST(mnist_root, train=True, download=True, transform=mnist_transform),\n",
    "    batch_size=batch_size, shuffle=True, **loader_kwargs)\n",
    "\n",
    "test_loader = torch.utils.data.DataLoader(\n",
    "    datasets.MNIST(mnist_root, train=False, transform=mnist_transform),\n",
    "    batch_size=1000, shuffle=False, **loader_kwargs)"
   ]
  },
  {
   "cell_type": "code",
   "execution_count": 5,
   "metadata": {},
   "outputs": [],
   "source": [
    "class RegularCNNModel(torch.nn.Module):\n",
    "    def __init__(self):\n",
    "        super(RegularCNNModel, self).__init__()\n",
    "        self.conv1 = torch.nn.Conv2d(1, 16, kernel_size=3)\n",
    "        self.conv2 = torch.nn.Conv2d(16, 32, kernel_size=3)\n",
    "        #self.conv2_drop = torch.nn.Dropout2d()\n",
    "        self.fc1 = torch.nn.Linear(32*5*5, 50)\n",
    "        self.fc2 = torch.nn.Linear(50, 10)\n",
    "\n",
    "    def forward(self, x):\n",
    "        x = self.conv1(x)\n",
    "        x = F.max_pool2d( x, 2)\n",
    "        x = F.relu(x)\n",
    "        \n",
    "        x = self.conv2(x)\n",
    "        x = F.max_pool2d( x, 2)\n",
    "        x = F.relu(x)\n",
    "        \n",
    "        #print(x.size())\n",
    "        \n",
    "        x = x.view(-1, 32*5*5)\n",
    "        \n",
    "        x = F.relu(self.fc1(x))\n",
    "        x = F.dropout(x, training=self.training)\n",
    "        x = self.fc2(x)\n",
    "        \n",
    "        return F.log_softmax(x, dim=1)"
   ]
  },
  {
   "cell_type": "code",
   "execution_count": 6,
   "metadata": {},
   "outputs": [],
   "source": [
    "def parameter_count(model):\n",
    "    param_tot=0\n",
    "    for name, param in model.named_parameters():\n",
    "        if param.requires_grad:\n",
    "            #print(name, param.data.size(), v_size)\n",
    "            param_size = 1\n",
    "            for d in list(param.data.size()):\n",
    "                param_size *= d\n",
    "            param_tot += param_size\n",
    "    return param_tot    "
   ]
  },
  {
   "cell_type": "code",
   "execution_count": 7,
   "metadata": {},
   "outputs": [],
   "source": [
    "def train(model, optimizer, epoch_num):\n",
    "    model.train()\n",
    "    for batch_idx, (data, target) in enumerate(train_loader):\n",
    "        data, target = data.to(device), target.to(device)\n",
    "        optimizer.zero_grad()\n",
    "        output = model(data)\n",
    "        loss = F.nll_loss(output, target)\n",
    "        loss.backward()\n",
    "        optimizer.step()\n",
    "        if batch_idx % batch_log_interval == 0:\n",
    "            print('Train Epoch: {} [{: 6d}/{: 6d} ({:2.0f}%)]\\tLoss: {:.4f}'.format(\n",
    "                epoch_num, batch_idx * len(data), len(train_loader.dataset),\n",
    "                100. * batch_idx / len(train_loader), loss.item()))\n",
    "\n",
    "def test(model):\n",
    "    model.eval()\n",
    "    test_loss, correct = 0., 0\n",
    "    with torch.no_grad():\n",
    "        for data, target in test_loader:\n",
    "            data, target = data.to(device), target.to(device)\n",
    "            output = model(data)\n",
    "            test_loss += F.nll_loss(output, target, size_average=False).item() # sum up batch loss\n",
    "            pred = output.max(1, keepdim=True)[1] # get the index of the max log-probability\n",
    "            correct += pred.eq(target.view_as(pred)).sum().item()\n",
    "\n",
    "    test_loss /= len(test_loader.dataset)\n",
    "    pct_correct = 100. * correct / len(test_loader.dataset)\n",
    "    print('\\nTest set: Average loss: {:.4f}, Accuracy: {}/{} ({:.1f}%)\\n'.format(\n",
    "        test_loss, correct, len(test_loader.dataset), pct_correct))\n",
    "    return pct_correct"
   ]
  },
  {
   "cell_type": "code",
   "execution_count": 8,
   "metadata": {
    "scrolled": true
   },
   "outputs": [],
   "source": [
    "def use_model(model):  # , **kwargs\n",
    "    _model = model.to(device)\n",
    "    #optimizer = optim.SGD(_model.parameters(), lr=args.lr, momentum=momentum)\n",
    "    optimizer = torch.optim.Adam(_model.parameters(), lr=lr)\n",
    "    return _model, optimizer\n",
    "\n",
    "def get_stats_for(model, n_epochs=n_epochs):\n",
    "    print(\"Total model parameters : %d\" % (parameter_count(model),) )\n",
    "    _model, optimizer = use_model(model)\n",
    "    for epoch in range(1, n_epochs + 1):\n",
    "        train(_model, optimizer, epoch)\n",
    "        pct_correct = test(_model)\n",
    "    return pct_correct"
   ]
  },
  {
   "cell_type": "code",
   "execution_count": null,
   "metadata": {},
   "outputs": [],
   "source": [
    "get_stats_for(RegularCNNModel())"
   ]
  },
  {
   "cell_type": "markdown",
   "metadata": {},
   "source": [
    "# Define Intrinsic Dimension Wrapper"
   ]
  },
  {
   "cell_type": "code",
   "execution_count": 9,
   "metadata": {},
   "outputs": [],
   "source": [
    "class IntrinsicDimensionWrapper(torch.nn.Module):\n",
    "    \n",
    "    def __init__(self, module, intrinsic_dimension, verbose=False):\n",
    "        \"\"\"\n",
    "        Wrapper to estimate the intrinsic dimensionality of the \n",
    "        objective landscape for a specific task given a specific model\n",
    "        :param module: pytorch nn.Module\n",
    "        :param intrinsic_dimension: dimensionality within which we search for solution\n",
    "        :param verbose: if things should be printed out\n",
    "        \"\"\"\n",
    "        super(IntrinsicDimensionWrapper, self).__init__()\n",
    "        \n",
    "        self.verbose = verbose\n",
    "        \n",
    "        self.m = [module] # Hide this from inspection by get_parameters()\n",
    "        \n",
    "        self.name_base_localname = []\n",
    "        \n",
    "        # Stores the initial value: \\theta_{0}^{D}\n",
    "        self.initial_value = dict()\n",
    "        \n",
    "        # Stores the randomly generated projection matrix P\n",
    "        self.random_matrix = dict()\n",
    "       \n",
    "        # Parameter vector that is updated, initialised with zeros as per text: \\theta^{d}\n",
    "        V = torch.nn.Parameter( torch.zeros( (intrinsic_dimension,1) ).to(device) )\n",
    "        self.register_parameter('V', V)\n",
    "        v_size = (intrinsic_dimension, )\n",
    "        \n",
    "        # Iterates over layers in the Neural Network\n",
    "        for name, param in module.named_parameters():\n",
    "            # If the parameter requires gradient update\n",
    "            if param.requires_grad:\n",
    "                \n",
    "                if self.verbose: print(name, param.data.size(), v_size)\n",
    "                \n",
    "                # Saves the initial values of the initialised parameters from param.data and sets them to no grad.\n",
    "                # (initial values are the 'origin' of the search)\n",
    "                self.initial_value[name] = v0 = param.clone().detach().requires_grad_(False).to(device)\n",
    "                \n",
    "                # If v0.size() is [4, 3], then below operation makes it [4, 3, v_size]\n",
    "                matrix_size = v0.size() + v_size\n",
    "\n",
    "                # Generates random projection matrices P, sets them to no grad\n",
    "                self.random_matrix[name] = (torch.randn(matrix_size, requires_grad=False).to(device) / intrinsic_dimension**0.5)\n",
    "                \n",
    "                # NOTE!: lines below are not clear! \n",
    "                base, localname = module, name\n",
    "                while '.' in localname:\n",
    "                    if self.verbose: print('Local name', localname)\n",
    "                    prefix, localname = localname.split('.', 1)\n",
    "                    if self.verbose: print('Prefix', prefix, '  Name', name, '  Local name', localname)\n",
    "                    base = base.__getattr__(prefix)\n",
    "                self.name_base_localname.append( (name, base, localname) )\n",
    "\n",
    "        for name, base, localname in self.name_base_localname:\n",
    "            delattr(base, localname)\n",
    "\n",
    "    def forward(self, x):   \n",
    "        # Iterate over the layers\n",
    "        for name, base, localname in self.name_base_localname:\n",
    "            #if self.verbose: print(name, base, localname)\n",
    "            #print(self.initial_value[name].size(), self.random_matrix[name].size(), self.V.size(), \n",
    "            #      torch.matmul(self.random_matrix[name], self.V).size())\n",
    "            \n",
    "            # Product between matrix P and \\theta^{d}\n",
    "            ray = torch.matmul(self.random_matrix[name], self.V)\n",
    "            # Add the \\theta_{0}^{D} to P \\dot \\theta^{d}\n",
    "            param = self.initial_value[name] + torch.squeeze(ray, -1)\n",
    "\n",
    "            setattr(base, localname, param)\n",
    "\n",
    "        # Pass through the model, by getting the module from a list self.m\n",
    "        module = self.m[0]\n",
    "        x = module(x)\n",
    "        return x"
   ]
  },
  {
   "cell_type": "markdown",
   "metadata": {},
   "source": [
    "# Testing"
   ]
  },
  {
   "cell_type": "code",
   "execution_count": 25,
   "metadata": {},
   "outputs": [
    {
     "name": "stdout",
     "output_type": "stream",
     "text": [
      "weight torch.Size([4, 3]) (10,)\n",
      "bias torch.Size([4]) (10,)\n"
     ]
    },
    {
     "data": {
      "text/plain": [
       "[(tensor([0., 0., 0., 0., 0., 0., 0., 0., 0., 0.], device='cuda:0',\n",
       "         grad_fn=<ViewBackward>), True)]"
      ]
     },
     "execution_count": 25,
     "metadata": {},
     "output_type": "execute_result"
    }
   ],
   "source": [
    "#model_single= torch.nn.Linear(3,4)\n",
    "model_single = IntrinsicDimensionWrapper(module=torch.nn.Linear(3, 4), \n",
    "                                         intrinsic_dimension=10,\n",
    "                                         verbose=True)\n",
    "\n",
    "#[p[0] for p in model_test.named_parameters()]\n",
    "[ (p.view(-1), p.requires_grad) for p in model_single.parameters() ]\n",
    "#model_test.initial_value"
   ]
  },
  {
   "cell_type": "code",
   "execution_count": 22,
   "metadata": {},
   "outputs": [
    {
     "data": {
      "text/plain": [
       "tensor([0.6881, 0.4961, 1.0218, 0.5621], device='cuda:0',\n",
       "       grad_fn=<AddBackward0>)"
      ]
     },
     "execution_count": 22,
     "metadata": {},
     "output_type": "execute_result"
    }
   ],
   "source": [
    "x = torch.tensor( [1., 5., -1.25] ).to(device)\n",
    "\n",
    "model_single(x)"
   ]
  },
  {
   "cell_type": "code",
   "execution_count": 23,
   "metadata": {},
   "outputs": [
    {
     "data": {
      "text/plain": [
       "tensor([0.6899, 0.4864, 1.0021, 0.5527], device='cuda:0',\n",
       "       grad_fn=<AddBackward0>)"
      ]
     },
     "execution_count": 23,
     "metadata": {},
     "output_type": "execute_result"
    }
   ],
   "source": [
    "#model_test.V.data[3]=0.\n",
    "model_single.V.data[3]+=.005\n",
    "model_single(x)"
   ]
  },
  {
   "cell_type": "code",
   "execution_count": 10,
   "metadata": {},
   "outputs": [
    {
     "name": "stdout",
     "output_type": "stream",
     "text": [
      "tensor(3.0096, device='cuda:0', grad_fn=<NllLossBackward>)\n"
     ]
    },
    {
     "data": {
      "text/plain": [
       "(True,)"
      ]
     },
     "execution_count": 10,
     "metadata": {},
     "output_type": "execute_result"
    }
   ],
   "source": [
    "opt_test = torch.optim.Adam(model_single.parameters(), lr=lr)\n",
    "\n",
    "model_single.train()\n",
    "\n",
    "#data, target = data.to(device), target.to(device)\n",
    "x_batch = torch.unsqueeze(x,0)\n",
    "data, target = x_batch, torch.tensor( [1,] ).to(device)\n",
    "\n",
    "opt_test.zero_grad()\n",
    "output = model_single(data)\n",
    "loss = F.nll_loss(output, target)\n",
    "print(loss)\n",
    "loss.backward()\n",
    "opt_test.step()\n",
    "\n",
    "model_single.V.requires_grad,\n",
    "#model_single.m[0].weight.grad, model_single.m[0].weight.grad"
   ]
  },
  {
   "cell_type": "markdown",
   "metadata": {},
   "source": [
    "# Apply to regular CNN"
   ]
  },
  {
   "cell_type": "code",
   "execution_count": 13,
   "metadata": {},
   "outputs": [],
   "source": [
    "## Now, let's build the CNN model with Intrinsic Dimension Wrapping...\n",
    "\n",
    "intrinsic_dimension_guess = 100"
   ]
  },
  {
   "cell_type": "code",
   "execution_count": 14,
   "metadata": {},
   "outputs": [],
   "source": [
    "model_base = RegularCNNModel()\n",
    "#[name for name,param in model_base.named_parameters()]\n",
    "\n",
    "model_wrapped = IntrinsicDimensionWrapper( model_base, intrinsic_dimension_guess )\n",
    "# [name for name,param in model_wrapped.named_parameters()]\n",
    "#[param for param in model_wrapped.parameters()]"
   ]
  },
  {
   "cell_type": "code",
   "execution_count": 15,
   "metadata": {},
   "outputs": [
    {
     "name": "stdout",
     "output_type": "stream",
     "text": [
      "Total model parameters : 100\n",
      "Train Epoch: 1 [     0/ 60000 ( 0%)]\tLoss: 2.3054\n",
      "Train Epoch: 1 [ 19200/ 60000 (32%)]\tLoss: 1.6946\n",
      "Train Epoch: 1 [ 38400/ 60000 (64%)]\tLoss: 1.9772\n",
      "Train Epoch: 1 [ 57600/ 60000 (96%)]\tLoss: 1.6844\n",
      "\n",
      "Test set: Average loss: 1.7046, Accuracy: 4128/10000 (41.3%)\n",
      "\n",
      "Train Epoch: 2 [     0/ 60000 ( 0%)]\tLoss: 1.5453\n",
      "Train Epoch: 2 [ 19200/ 60000 (32%)]\tLoss: 1.7895\n",
      "Train Epoch: 2 [ 38400/ 60000 (64%)]\tLoss: 1.5533\n",
      "Train Epoch: 2 [ 57600/ 60000 (96%)]\tLoss: 1.9035\n",
      "\n",
      "Test set: Average loss: 1.7590, Accuracy: 3919/10000 (39.2%)\n",
      "\n",
      "Train Epoch: 3 [     0/ 60000 ( 0%)]\tLoss: 2.1049\n",
      "Train Epoch: 3 [ 19200/ 60000 (32%)]\tLoss: 1.6302\n",
      "Train Epoch: 3 [ 38400/ 60000 (64%)]\tLoss: 1.8182\n",
      "Train Epoch: 3 [ 57600/ 60000 (96%)]\tLoss: 1.5162\n",
      "\n",
      "Test set: Average loss: 1.7265, Accuracy: 3920/10000 (39.2%)\n",
      "\n",
      "Train Epoch: 4 [     0/ 60000 ( 0%)]\tLoss: 1.7919\n",
      "Train Epoch: 4 [ 19200/ 60000 (32%)]\tLoss: 1.4218\n",
      "Train Epoch: 4 [ 38400/ 60000 (64%)]\tLoss: 1.5383\n",
      "Train Epoch: 4 [ 57600/ 60000 (96%)]\tLoss: 1.7460\n",
      "\n",
      "Test set: Average loss: 1.7166, Accuracy: 4120/10000 (41.2%)\n",
      "\n",
      "Train Epoch: 5 [     0/ 60000 ( 0%)]\tLoss: 1.5338\n",
      "Train Epoch: 5 [ 19200/ 60000 (32%)]\tLoss: 1.9395\n",
      "Train Epoch: 5 [ 38400/ 60000 (64%)]\tLoss: 1.2970\n",
      "Train Epoch: 5 [ 57600/ 60000 (96%)]\tLoss: 1.6062\n",
      "\n",
      "Test set: Average loss: 1.7483, Accuracy: 3989/10000 (39.9%)\n",
      "\n"
     ]
    },
    {
     "data": {
      "text/plain": [
       "39.89"
      ]
     },
     "execution_count": 15,
     "metadata": {},
     "output_type": "execute_result"
    }
   ],
   "source": [
    "get_stats_for(model_wrapped)"
   ]
  },
  {
   "cell_type": "markdown",
   "metadata": {},
   "source": [
    "# Toy MNIST"
   ]
  },
  {
   "cell_type": "code",
   "execution_count": 10,
   "metadata": {},
   "outputs": [],
   "source": [
    "class FCNAsInPAper(torch.nn.Module):\n",
    "    def __init__(self):\n",
    "        super(FCNAsInPAper, self).__init__()\n",
    "        self.fc1 = torch.nn.Linear(784, 200)\n",
    "        self.fc2 = torch.nn.Linear(200, 200)\n",
    "        self.fc3 = torch.nn.Linear(200, 10)\n",
    "\n",
    "    def forward(self, x):\n",
    "        \n",
    "        x = x.view(-1, 784)\n",
    "        \n",
    "        x = self.fc1(x)\n",
    "        x = F.relu(x)\n",
    "        x = self.fc2(x)\n",
    "        x = F.relu(x)\n",
    "        x = self.fc3(x)\n",
    "        \n",
    "        return F.log_softmax(x, dim=1)"
   ]
  },
  {
   "cell_type": "code",
   "execution_count": 11,
   "metadata": {},
   "outputs": [],
   "source": [
    "intrinsic_dimension_guess = 750"
   ]
  },
  {
   "cell_type": "code",
   "execution_count": 12,
   "metadata": {},
   "outputs": [],
   "source": [
    "model_base = FCNAsInPAper()"
   ]
  },
  {
   "cell_type": "code",
   "execution_count": 13,
   "metadata": {},
   "outputs": [
    {
     "name": "stdout",
     "output_type": "stream",
     "text": [
      "199210\n"
     ]
    }
   ],
   "source": [
    "print(parameter_count(model_base))"
   ]
  },
  {
   "cell_type": "code",
   "execution_count": 14,
   "metadata": {},
   "outputs": [],
   "source": [
    "model_wrapped = IntrinsicDimensionWrapper( model_base, intrinsic_dimension_guess )"
   ]
  },
  {
   "cell_type": "code",
   "execution_count": 15,
   "metadata": {},
   "outputs": [
    {
     "name": "stdout",
     "output_type": "stream",
     "text": [
      "Total model parameters : 750\n",
      "Train Epoch: 1 [     0/ 60000 ( 0%)]\tLoss: 2.3145\n",
      "Train Epoch: 1 [ 19200/ 60000 (32%)]\tLoss: 1.0000\n",
      "Train Epoch: 1 [ 38400/ 60000 (64%)]\tLoss: 0.6561\n",
      "Train Epoch: 1 [ 57600/ 60000 (96%)]\tLoss: 0.6059\n"
     ]
    },
    {
     "name": "stderr",
     "output_type": "stream",
     "text": [
      "/home/jevjev/anaconda3/envs/dl/lib/python3.6/site-packages/torch/nn/_reduction.py:43: UserWarning: size_average and reduce args will be deprecated, please use reduction='sum' instead.\n",
      "  warnings.warn(warning.format(ret))\n"
     ]
    },
    {
     "name": "stdout",
     "output_type": "stream",
     "text": [
      "\n",
      "Test set: Average loss: 0.5160, Accuracy: 8422/10000 (84.2%)\n",
      "\n",
      "Train Epoch: 2 [     0/ 60000 ( 0%)]\tLoss: 0.8945\n",
      "Train Epoch: 2 [ 19200/ 60000 (32%)]\tLoss: 0.4821\n",
      "Train Epoch: 2 [ 38400/ 60000 (64%)]\tLoss: 0.7526\n",
      "Train Epoch: 2 [ 57600/ 60000 (96%)]\tLoss: 0.8867\n",
      "\n",
      "Test set: Average loss: 0.6030, Accuracy: 8259/10000 (82.6%)\n",
      "\n",
      "Train Epoch: 3 [     0/ 60000 ( 0%)]\tLoss: 0.4094\n",
      "Train Epoch: 3 [ 19200/ 60000 (32%)]\tLoss: 0.3169\n",
      "Train Epoch: 3 [ 38400/ 60000 (64%)]\tLoss: 1.2058\n",
      "Train Epoch: 3 [ 57600/ 60000 (96%)]\tLoss: 0.8690\n",
      "\n",
      "Test set: Average loss: 0.4815, Accuracy: 8491/10000 (84.9%)\n",
      "\n",
      "Train Epoch: 4 [     0/ 60000 ( 0%)]\tLoss: 0.8339\n",
      "Train Epoch: 4 [ 19200/ 60000 (32%)]\tLoss: 0.6367\n",
      "Train Epoch: 4 [ 38400/ 60000 (64%)]\tLoss: 0.4535\n",
      "Train Epoch: 4 [ 57600/ 60000 (96%)]\tLoss: 0.5406\n",
      "\n",
      "Test set: Average loss: 0.5880, Accuracy: 8384/10000 (83.8%)\n",
      "\n",
      "Train Epoch: 5 [     0/ 60000 ( 0%)]\tLoss: 0.8410\n",
      "Train Epoch: 5 [ 19200/ 60000 (32%)]\tLoss: 0.1992\n",
      "Train Epoch: 5 [ 38400/ 60000 (64%)]\tLoss: 0.5755\n",
      "Train Epoch: 5 [ 57600/ 60000 (96%)]\tLoss: 0.4994\n",
      "\n",
      "Test set: Average loss: 0.6512, Accuracy: 8152/10000 (81.5%)\n",
      "\n",
      "Train Epoch: 6 [     0/ 60000 ( 0%)]\tLoss: 0.9044\n",
      "Train Epoch: 6 [ 19200/ 60000 (32%)]\tLoss: 0.4515\n",
      "Train Epoch: 6 [ 38400/ 60000 (64%)]\tLoss: 0.6416\n",
      "Train Epoch: 6 [ 57600/ 60000 (96%)]\tLoss: 0.1918\n",
      "\n",
      "Test set: Average loss: 0.6226, Accuracy: 8262/10000 (82.6%)\n",
      "\n",
      "Train Epoch: 7 [     0/ 60000 ( 0%)]\tLoss: 0.7638\n",
      "Train Epoch: 7 [ 19200/ 60000 (32%)]\tLoss: 0.6064\n"
     ]
    },
    {
     "ename": "KeyboardInterrupt",
     "evalue": "",
     "output_type": "error",
     "traceback": [
      "\u001b[0;31m---------------------------------------------------------------------------\u001b[0m",
      "\u001b[0;31mKeyboardInterrupt\u001b[0m                         Traceback (most recent call last)",
      "\u001b[0;32m<ipython-input-15-9508b475fa0b>\u001b[0m in \u001b[0;36m<module>\u001b[0;34m\u001b[0m\n\u001b[0;32m----> 1\u001b[0;31m \u001b[0mget_stats_for\u001b[0m\u001b[0;34m(\u001b[0m\u001b[0mmodel_wrapped\u001b[0m\u001b[0;34m)\u001b[0m\u001b[0;34m\u001b[0m\u001b[0;34m\u001b[0m\u001b[0m\n\u001b[0m",
      "\u001b[0;32m<ipython-input-8-3a094855bb7b>\u001b[0m in \u001b[0;36mget_stats_for\u001b[0;34m(model, n_epochs)\u001b[0m\n\u001b[1;32m      9\u001b[0m     \u001b[0m_model\u001b[0m\u001b[0;34m,\u001b[0m \u001b[0moptimizer\u001b[0m \u001b[0;34m=\u001b[0m \u001b[0muse_model\u001b[0m\u001b[0;34m(\u001b[0m\u001b[0mmodel\u001b[0m\u001b[0;34m)\u001b[0m\u001b[0;34m\u001b[0m\u001b[0;34m\u001b[0m\u001b[0m\n\u001b[1;32m     10\u001b[0m     \u001b[0;32mfor\u001b[0m \u001b[0mepoch\u001b[0m \u001b[0;32min\u001b[0m \u001b[0mrange\u001b[0m\u001b[0;34m(\u001b[0m\u001b[0;36m1\u001b[0m\u001b[0;34m,\u001b[0m \u001b[0mn_epochs\u001b[0m \u001b[0;34m+\u001b[0m \u001b[0;36m1\u001b[0m\u001b[0;34m)\u001b[0m\u001b[0;34m:\u001b[0m\u001b[0;34m\u001b[0m\u001b[0;34m\u001b[0m\u001b[0m\n\u001b[0;32m---> 11\u001b[0;31m         \u001b[0mtrain\u001b[0m\u001b[0;34m(\u001b[0m\u001b[0m_model\u001b[0m\u001b[0;34m,\u001b[0m \u001b[0moptimizer\u001b[0m\u001b[0;34m,\u001b[0m \u001b[0mepoch\u001b[0m\u001b[0;34m)\u001b[0m\u001b[0;34m\u001b[0m\u001b[0;34m\u001b[0m\u001b[0m\n\u001b[0m\u001b[1;32m     12\u001b[0m         \u001b[0mpct_correct\u001b[0m \u001b[0;34m=\u001b[0m \u001b[0mtest\u001b[0m\u001b[0;34m(\u001b[0m\u001b[0m_model\u001b[0m\u001b[0;34m)\u001b[0m\u001b[0;34m\u001b[0m\u001b[0;34m\u001b[0m\u001b[0m\n\u001b[1;32m     13\u001b[0m     \u001b[0;32mreturn\u001b[0m \u001b[0mpct_correct\u001b[0m\u001b[0;34m\u001b[0m\u001b[0;34m\u001b[0m\u001b[0m\n",
      "\u001b[0;32m<ipython-input-7-0ff9b8372568>\u001b[0m in \u001b[0;36mtrain\u001b[0;34m(model, optimizer, epoch_num)\u001b[0m\n\u001b[1;32m      2\u001b[0m     \u001b[0mmodel\u001b[0m\u001b[0;34m.\u001b[0m\u001b[0mtrain\u001b[0m\u001b[0;34m(\u001b[0m\u001b[0;34m)\u001b[0m\u001b[0;34m\u001b[0m\u001b[0;34m\u001b[0m\u001b[0m\n\u001b[1;32m      3\u001b[0m     \u001b[0;32mfor\u001b[0m \u001b[0mbatch_idx\u001b[0m\u001b[0;34m,\u001b[0m \u001b[0;34m(\u001b[0m\u001b[0mdata\u001b[0m\u001b[0;34m,\u001b[0m \u001b[0mtarget\u001b[0m\u001b[0;34m)\u001b[0m \u001b[0;32min\u001b[0m \u001b[0menumerate\u001b[0m\u001b[0;34m(\u001b[0m\u001b[0mtrain_loader\u001b[0m\u001b[0;34m)\u001b[0m\u001b[0;34m:\u001b[0m\u001b[0;34m\u001b[0m\u001b[0;34m\u001b[0m\u001b[0m\n\u001b[0;32m----> 4\u001b[0;31m         \u001b[0mdata\u001b[0m\u001b[0;34m,\u001b[0m \u001b[0mtarget\u001b[0m \u001b[0;34m=\u001b[0m \u001b[0mdata\u001b[0m\u001b[0;34m.\u001b[0m\u001b[0mto\u001b[0m\u001b[0;34m(\u001b[0m\u001b[0mdevice\u001b[0m\u001b[0;34m)\u001b[0m\u001b[0;34m,\u001b[0m \u001b[0mtarget\u001b[0m\u001b[0;34m.\u001b[0m\u001b[0mto\u001b[0m\u001b[0;34m(\u001b[0m\u001b[0mdevice\u001b[0m\u001b[0;34m)\u001b[0m\u001b[0;34m\u001b[0m\u001b[0;34m\u001b[0m\u001b[0m\n\u001b[0m\u001b[1;32m      5\u001b[0m         \u001b[0moptimizer\u001b[0m\u001b[0;34m.\u001b[0m\u001b[0mzero_grad\u001b[0m\u001b[0;34m(\u001b[0m\u001b[0;34m)\u001b[0m\u001b[0;34m\u001b[0m\u001b[0;34m\u001b[0m\u001b[0m\n\u001b[1;32m      6\u001b[0m         \u001b[0moutput\u001b[0m \u001b[0;34m=\u001b[0m \u001b[0mmodel\u001b[0m\u001b[0;34m(\u001b[0m\u001b[0mdata\u001b[0m\u001b[0;34m)\u001b[0m\u001b[0;34m\u001b[0m\u001b[0;34m\u001b[0m\u001b[0m\n",
      "\u001b[0;31mKeyboardInterrupt\u001b[0m: "
     ]
    }
   ],
   "source": [
    "get_stats_for(model_wrapped)"
   ]
  },
  {
   "cell_type": "code",
   "execution_count": null,
   "metadata": {},
   "outputs": [],
   "source": []
  }
 ],
 "metadata": {
  "kernelspec": {
   "display_name": "Python (dl)",
   "language": "python",
   "name": "dl"
  },
  "language_info": {
   "codemirror_mode": {
    "name": "ipython",
    "version": 3
   },
   "file_extension": ".py",
   "mimetype": "text/x-python",
   "name": "python",
   "nbconvert_exporter": "python",
   "pygments_lexer": "ipython3",
   "version": "3.6.7"
  }
 },
 "nbformat": 4,
 "nbformat_minor": 2
}
