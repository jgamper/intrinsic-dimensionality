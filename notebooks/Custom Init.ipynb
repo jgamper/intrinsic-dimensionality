{
 "cells": [
  {
   "cell_type": "code",
   "execution_count": 1,
   "metadata": {},
   "outputs": [],
   "source": [
    "import seaborn as sns\n",
    "sns.set_style('white')\n",
    "flatui = ['#3498db', '#a6901b', '#e8a6ca','#a2b4c5', '#2ecc71', \n",
    "          '#d40b51', '#543cee']\n",
    "sns.set_palette(flatui)\n",
    "import matplotlib.pyplot as plt\n",
    "import numpy as np\n",
    "import pandas as pd\n",
    "import sys\n",
    "sys.path.append('/home/jevjev/Dropbox/Projects/Intrinsic-dimensionality/')\n",
    "from src.utils.train import get_exponential_range\n",
    "from src.models import get_resnet\n",
    "from torchvision.models import resnet18\n",
    "import torch"
   ]
  },
  {
   "cell_type": "code",
   "execution_count": 2,
   "metadata": {},
   "outputs": [],
   "source": [
    "resnet18_imagenet = resnet18(True)"
   ]
  },
  {
   "cell_type": "code",
   "execution_count": 3,
   "metadata": {},
   "outputs": [],
   "source": [
    "resnet18_mean_var = get_resnet(\"resnet18\", 10, pretrained=False)"
   ]
  },
  {
   "cell_type": "code",
   "execution_count": 4,
   "metadata": {},
   "outputs": [
    {
     "name": "stdout",
     "output_type": "stream",
     "text": [
      "62\n"
     ]
    }
   ],
   "source": [
    "mean_var_names = []\n",
    "for name, param in resnet18_mean_var.named_parameters():\n",
    "    mean_var_names.append((name, param.size()))\n",
    "print(len(mean_var_names))"
   ]
  },
  {
   "cell_type": "code",
   "execution_count": 5,
   "metadata": {},
   "outputs": [
    {
     "name": "stdout",
     "output_type": "stream",
     "text": [
      "62\n"
     ]
    }
   ],
   "source": [
    "imagenet_names = []\n",
    "for name, param in resnet18_imagenet.named_parameters():\n",
    "    imagenet_names.append((name, param.size()))\n",
    "print(len(imagenet_names))"
   ]
  },
  {
   "cell_type": "code",
   "execution_count": 6,
   "metadata": {},
   "outputs": [],
   "source": [
    "mean_var_dict = resnet18_mean_var.state_dict()\n",
    "mean_var_keys = list(resnet18_mean_var.state_dict().keys())"
   ]
  },
  {
   "cell_type": "code",
   "execution_count": 7,
   "metadata": {},
   "outputs": [
    {
     "data": {
      "text/plain": [
       "<All keys matched successfully>"
      ]
     },
     "execution_count": 7,
     "metadata": {},
     "output_type": "execute_result"
    }
   ],
   "source": [
    "with torch.no_grad():\n",
    "    for i, (key, param) in enumerate(resnet18_imagenet.state_dict().items()):\n",
    "        if \"num_batches_tracked\" not in key:\n",
    "            mean, std = torch.mean(param), torch.std(param)\n",
    "            mean_var_key = mean_var_keys[i]\n",
    "            param_mean_var = mean_var_dict[mean_var_key]\n",
    "            mean_var_dict[mean_var_key] = torch.nn.init.normal_(torch.empty_like(param_mean_var), \n",
    "                                                                mean=mean, std=std)\n",
    "resnet18_mean_var.load_state_dict(mean_var_dict)"
   ]
  },
  {
   "cell_type": "code",
   "execution_count": null,
   "metadata": {},
   "outputs": [],
   "source": []
  }
 ],
 "metadata": {
  "kernelspec": {
   "display_name": "Conda dl",
   "language": "python",
   "name": "dl"
  },
  "language_info": {
   "codemirror_mode": {
    "name": "ipython",
    "version": 3
   },
   "file_extension": ".py",
   "mimetype": "text/x-python",
   "name": "python",
   "nbconvert_exporter": "python",
   "pygments_lexer": "ipython3",
   "version": "3.6.7"
  }
 },
 "nbformat": 4,
 "nbformat_minor": 2
}
