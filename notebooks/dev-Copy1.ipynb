{
 "cells": [
  {
   "cell_type": "markdown",
   "metadata": {},
   "source": [
    "## Intrinsic Dimension : Proof of Concept"
   ]
  },
  {
   "cell_type": "markdown",
   "metadata": {},
   "source": [
    "This just demonstrates that the Intrinsic Dimension idea works for a simple MNIST-CNN model.\n",
    "\n",
    "Of possible interest : This PyTorch version is 'generic' in the sense that it should be able\n",
    "to take arbitrary parameterised models and investigate their Intrinsic Dimension (without\n",
    "writing specialised `Module_IntrinsicDimension` classes for each module type)."
   ]
  },
  {
   "cell_type": "code",
   "execution_count": 3,
   "metadata": {},
   "outputs": [],
   "source": [
    "import sys\n",
    "sys.path.append(\"/home/jevjev/Dropbox/Projects/Intrinsic-dimensionality/\")"
   ]
  },
  {
   "cell_type": "code",
   "execution_count": 4,
   "metadata": {},
   "outputs": [],
   "source": [
    "import os\n",
    "import torch\n",
    "import torch.nn.functional as F\n",
    "from torchvision import datasets, transforms\n",
    "os.environ[\"CUDA_VISIBLE_DEVICES\"] = str(1)\n",
    "from intrinsic.utils.general import get_loaders, parameter_count\n",
    "from models.toy import RegularCNNModel\n",
    "from models.train_funcs import get_stats_for"
   ]
  },
  {
   "cell_type": "code",
   "execution_count": 5,
   "metadata": {},
   "outputs": [],
   "source": [
    "mnist_root = '/home/jevjev/Dropbox/Projects/datasets'\n",
    "n_epochs = 20\n",
    "batch_size, batch_log_interval, lr = 32, 600, 0.01\n",
    "seed = 10\n",
    "try_cuda = True"
   ]
  },
  {
   "cell_type": "code",
   "execution_count": 6,
   "metadata": {},
   "outputs": [],
   "source": [
    "use_cuda = try_cuda and torch.cuda.is_available()\n",
    "torch.manual_seed(seed)\n",
    "device = torch.device(\"cuda\" if use_cuda else \"cpu\")"
   ]
  },
  {
   "cell_type": "code",
   "execution_count": 7,
   "metadata": {},
   "outputs": [],
   "source": [
    "train_loader, test_loader = get_loaders(mnist_root, use_cuda, batch_size)"
   ]
  },
  {
   "cell_type": "code",
   "execution_count": null,
   "metadata": {
    "scrolled": true
   },
   "outputs": [
    {
     "name": "stdout",
     "output_type": "stream",
     "text": [
      "Total model parameters : 45360\n",
      "Train Epoch: 1 [     0/ 60000 ( 0%)]\tLoss: 2.3573\n"
     ]
    }
   ],
   "source": [
    "get_stats_for(RegularCNNModel(), n_epochs, train_loader, test_loader, batch_log_interval, lr, device)"
   ]
  },
  {
   "cell_type": "markdown",
   "metadata": {},
   "source": [
    "# Define Intrinsic Dimension Wrapper"
   ]
  },
  {
   "cell_type": "code",
   "execution_count": 22,
   "metadata": {},
   "outputs": [],
   "source": [
    "class IntrinsicDimensionWrapper(torch.nn.Module):\n",
    "    \n",
    "    def __init__(self, module, intrinsic_dimension, verbose=False):\n",
    "        \"\"\"\n",
    "        Wrapper to estimate the intrinsic dimensionality of the \n",
    "        objective landscape for a specific task given a specific model\n",
    "        :param module: pytorch nn.Module\n",
    "        :param intrinsic_dimension: dimensionality within which we search for solution\n",
    "        :param verbose: if things should be printed out\n",
    "        \"\"\"\n",
    "        super(IntrinsicDimensionWrapper, self).__init__()\n",
    "        \n",
    "        self.verbose = verbose\n",
    "        \n",
    "        self.m = [module] # Hide this from inspection by get_parameters()\n",
    "        \n",
    "        self.name_base_localname = []\n",
    "        \n",
    "        # Stores the initial value: \\theta_{0}^{D}\n",
    "        self.initial_value = dict()\n",
    "        \n",
    "        # Stores the randomly generated projection matrix P\n",
    "        self.random_matrix = dict()\n",
    "       \n",
    "        # Parameter vector that is updated, initialised with zeros as per text: \\theta^{d}\n",
    "        V = torch.nn.Parameter( torch.zeros( (intrinsic_dimension) ).to(device) )\n",
    "        self.register_parameter('V', V)\n",
    "        v_size = (intrinsic_dimension, )\n",
    "        \n",
    "        # Iterates over layers in the Neural Network\n",
    "        for name, param in module.named_parameters():\n",
    "            # If the parameter requires gradient update\n",
    "            if param.requires_grad:\n",
    "                \n",
    "                if self.verbose: print(name, param.data.size(), v_size)\n",
    "                \n",
    "                # Saves the initial values of the initialised parameters from param.data and sets them to no grad.\n",
    "                # (initial values are the 'origin' of the search)\n",
    "                self.initial_value[name] = v0 = param.clone().detach().requires_grad_(False).to(device)\n",
    "                print(name, v0.size())\n",
    "                print(v0)\n",
    "                # If v0.size() is [4, 3], then below operation makes it [4, 3, v_size]\n",
    "                matrix_size = v0.size() + v_size\n",
    "\n",
    "                # Generates random projection matrices P, sets them to no grad\n",
    "                self.random_matrix[name] = (torch.randn(matrix_size, requires_grad=False).to(device) / intrinsic_dimension**0.5)\n",
    "                \n",
    "                # NOTE!: lines below are not clear! \n",
    "                base, localname = module, name\n",
    "                while '.' in localname:\n",
    "                    if self.verbose: print('Local name', localname)\n",
    "                    prefix, localname = localname.split('.', 1)\n",
    "                    if self.verbose: print('Prefix', prefix, '  Name', name, '  Local name', localname)\n",
    "                    base = base.__getattr__(prefix)\n",
    "                self.name_base_localname.append( (name, base, localname) )\n",
    "\n",
    "        for name, base, localname in self.name_base_localname:\n",
    "            delattr(base, localname)\n",
    "\n",
    "    def forward(self, x):   \n",
    "        # Iterate over the layers\n",
    "        for name, base, localname in self.name_base_localname:\n",
    "            #if self.verbose: print(name, base, localname)\n",
    "            #print(self.initial_value[name].size(), self.random_matrix[name].size(), self.V.size(), \n",
    "            #      torch.matmul(self.random_matrix[name], self.V).size())\n",
    "            \n",
    "            # Product between matrix P and \\theta^{d}\n",
    "            ray = torch.matmul(self.random_matrix[name], self.V)\n",
    "            # Add the \\theta_{0}^{D} to P \\dot \\theta^{d}\n",
    "            param = self.initial_value[name] + torch.squeeze(ray, -1)\n",
    "\n",
    "            setattr(base, localname, param)\n",
    "\n",
    "        # Pass through the model, by getting the module from a list self.m\n",
    "        module = self.m[0]\n",
    "        x = module(x)\n",
    "        return x"
   ]
  },
  {
   "cell_type": "markdown",
   "metadata": {},
   "source": [
    "# Testing"
   ]
  },
  {
   "cell_type": "code",
   "execution_count": 23,
   "metadata": {},
   "outputs": [
    {
     "name": "stdout",
     "output_type": "stream",
     "text": [
      "weight torch.Size([4, 3])\n",
      "tensor([[ 0.3699,  0.4400,  0.5121],\n",
      "        [-0.4485, -0.1343,  0.0431],\n",
      "        [-0.4591,  0.5401,  0.4066],\n",
      "        [-0.1691,  0.0712, -0.0065]])\n",
      "bias torch.Size([4])\n",
      "tensor([ 0.1371, -0.4178, -0.0163, -0.0169])\n"
     ]
    },
    {
     "data": {
      "text/plain": [
       "[(tensor([0., 0., 0., 0., 0., 0., 0., 0., 0., 0.], grad_fn=<ViewBackward>),\n",
       "  True)]"
      ]
     },
     "execution_count": 23,
     "metadata": {},
     "output_type": "execute_result"
    }
   ],
   "source": [
    "#model_single= torch.nn.Linear(3,4)\n",
    "model_single = IntrinsicDimensionWrapper(module=torch.nn.Linear(3, 4), \n",
    "                                         intrinsic_dimension=10,\n",
    "                                         verbose=False)\n",
    "\n",
    "#[p[0] for p in model_test.named_parameters()]\n",
    "[ (p.view(-1), p.requires_grad) for p in model_single.parameters() ]\n",
    "#model_test.initial_value"
   ]
  },
  {
   "cell_type": "code",
   "execution_count": 25,
   "metadata": {},
   "outputs": [
    {
     "name": "stdout",
     "output_type": "stream",
     "text": [
      "torch.Size([4, 3, 10])\n",
      "torch.Size([10])\n",
      "tensor([[0., 0., 0.],\n",
      "        [0., 0., 0.],\n",
      "        [0., 0., 0.],\n",
      "        [0., 0., 0.]], grad_fn=<UnsafeViewBackward>)\n",
      "\n",
      "\n",
      "torch.Size([4, 10])\n",
      "torch.Size([10])\n",
      "tensor([0., 0., 0., 0.], grad_fn=<MvBackward>)\n",
      "\n",
      "\n"
     ]
    }
   ],
   "source": [
    "for name, base, localname in model_single.name_base_localname:\n",
    "    print(model_single.random_matrix[name].size())\n",
    "    print(model_single.V.size())\n",
    "    print(torch.matmul(model_single.random_matrix[name], model_single.V))\n",
    "    print('\\n')"
   ]
  },
  {
   "cell_type": "code",
   "execution_count": null,
   "metadata": {},
   "outputs": [],
   "source": [
    "x = torch.tensor( [1., 5., -1.25] ).to(device)\n",
    "\n",
    "model_single(x)"
   ]
  },
  {
   "cell_type": "code",
   "execution_count": null,
   "metadata": {},
   "outputs": [],
   "source": [
    "#model_test.V.data[3]=0.\n",
    "model_single.V.data[3]+=.005\n",
    "model_single(x)"
   ]
  },
  {
   "cell_type": "code",
   "execution_count": null,
   "metadata": {},
   "outputs": [],
   "source": [
    "opt_test = torch.optim.Adam(model_single.parameters(), lr=lr)\n",
    "\n",
    "model_single.train()\n",
    "\n",
    "#data, target = data.to(device), target.to(device)\n",
    "x_batch = torch.unsqueeze(x,0)\n",
    "data, target = x_batch, torch.tensor( [1,] ).to(device)\n",
    "\n",
    "opt_test.zero_grad()\n",
    "output = model_single(data)\n",
    "loss = F.nll_loss(output, target)\n",
    "print(loss)\n",
    "loss.backward()\n",
    "opt_test.step()\n",
    "\n",
    "model_single.V.requires_grad,\n",
    "#model_single.m[0].weight.grad, model_single.m[0].weight.grad"
   ]
  },
  {
   "cell_type": "markdown",
   "metadata": {},
   "source": [
    "# Apply to regular CNN"
   ]
  },
  {
   "cell_type": "code",
   "execution_count": null,
   "metadata": {},
   "outputs": [],
   "source": [
    "## Now, let's build the CNN model with Intrinsic Dimension Wrapping...\n",
    "\n",
    "intrinsic_dimension_guess = 100"
   ]
  },
  {
   "cell_type": "code",
   "execution_count": null,
   "metadata": {},
   "outputs": [],
   "source": [
    "model_base = RegularCNNModel()\n",
    "#[name for name,param in model_base.named_parameters()]\n",
    "\n",
    "model_wrapped = IntrinsicDimensionWrapper( model_base, intrinsic_dimension_guess )\n",
    "# [name for name,param in model_wrapped.named_parameters()]\n",
    "#[param for param in model_wrapped.parameters()]"
   ]
  },
  {
   "cell_type": "code",
   "execution_count": null,
   "metadata": {},
   "outputs": [],
   "source": [
    "get_stats_for(model_wrapped)"
   ]
  },
  {
   "cell_type": "markdown",
   "metadata": {},
   "source": [
    "# Toy MNIST"
   ]
  },
  {
   "cell_type": "code",
   "execution_count": 6,
   "metadata": {},
   "outputs": [],
   "source": [
    "class FCNAsInPAper(torch.nn.Module):\n",
    "    def __init__(self):\n",
    "        super(FCNAsInPAper, self).__init__()\n",
    "        self.fc1 = torch.nn.Linear(784, 200)\n",
    "        self.fc2 = torch.nn.Linear(200, 200)\n",
    "        self.fc3 = torch.nn.Linear(200, 10)\n",
    "\n",
    "    def forward(self, x):\n",
    "        \n",
    "        x = x.view(-1, 784)\n",
    "        \n",
    "        x = self.fc1(x)\n",
    "        x = F.relu(x)\n",
    "        x = self.fc2(x)\n",
    "        x = F.relu(x)\n",
    "        x = self.fc3(x)\n",
    "        \n",
    "        return F.log_softmax(x, dim=1)"
   ]
  },
  {
   "cell_type": "code",
   "execution_count": 7,
   "metadata": {},
   "outputs": [],
   "source": [
    "intrinsic_dimension_guess = 750"
   ]
  },
  {
   "cell_type": "code",
   "execution_count": 8,
   "metadata": {},
   "outputs": [],
   "source": [
    "model_base = FCNAsInPAper()"
   ]
  },
  {
   "cell_type": "code",
   "execution_count": 12,
   "metadata": {},
   "outputs": [
    {
     "name": "stdout",
     "output_type": "stream",
     "text": [
      "199210\n"
     ]
    }
   ],
   "source": [
    "print(parameter_count(model_base))"
   ]
  },
  {
   "cell_type": "code",
   "execution_count": 13,
   "metadata": {},
   "outputs": [],
   "source": [
    "model_wrapped = IntrinsicDimensionWrapper( model_base, intrinsic_dimension_guess )"
   ]
  },
  {
   "cell_type": "code",
   "execution_count": 16,
   "metadata": {
    "scrolled": true
   },
   "outputs": [
    {
     "name": "stdout",
     "output_type": "stream",
     "text": [
      "Total model parameters : 750\n",
      "Train Epoch: 1 [     0/ 60000 ( 0%)]\tLoss: 2.3145\n",
      "Train Epoch: 1 [ 19200/ 60000 (32%)]\tLoss: 1.0000\n",
      "Train Epoch: 1 [ 38400/ 60000 (64%)]\tLoss: 0.6561\n",
      "Train Epoch: 1 [ 57600/ 60000 (96%)]\tLoss: 0.6059\n"
     ]
    },
    {
     "name": "stderr",
     "output_type": "stream",
     "text": [
      "/home/jevjev/anaconda3/envs/dl/lib/python3.6/site-packages/torch/nn/_reduction.py:43: UserWarning: size_average and reduce args will be deprecated, please use reduction='sum' instead.\n",
      "  warnings.warn(warning.format(ret))\n"
     ]
    },
    {
     "name": "stdout",
     "output_type": "stream",
     "text": [
      "\n",
      "Test set: Average loss: 0.5160, Accuracy: 8422/10000 (84.2%)\n",
      "\n",
      "Train Epoch: 2 [     0/ 60000 ( 0%)]\tLoss: 0.8945\n",
      "Train Epoch: 2 [ 19200/ 60000 (32%)]\tLoss: 0.4821\n",
      "Train Epoch: 2 [ 38400/ 60000 (64%)]\tLoss: 0.7526\n",
      "Train Epoch: 2 [ 57600/ 60000 (96%)]\tLoss: 0.8867\n",
      "\n",
      "Test set: Average loss: 0.6030, Accuracy: 8259/10000 (82.6%)\n",
      "\n",
      "Train Epoch: 3 [     0/ 60000 ( 0%)]\tLoss: 0.4094\n",
      "Train Epoch: 3 [ 19200/ 60000 (32%)]\tLoss: 0.3169\n",
      "Train Epoch: 3 [ 38400/ 60000 (64%)]\tLoss: 1.2058\n",
      "Train Epoch: 3 [ 57600/ 60000 (96%)]\tLoss: 0.8690\n",
      "\n",
      "Test set: Average loss: 0.4815, Accuracy: 8491/10000 (84.9%)\n",
      "\n",
      "Train Epoch: 4 [     0/ 60000 ( 0%)]\tLoss: 0.8339\n"
     ]
    },
    {
     "ename": "KeyboardInterrupt",
     "evalue": "",
     "output_type": "error",
     "traceback": [
      "\u001b[0;31m---------------------------------------------------------------------------\u001b[0m",
      "\u001b[0;31mKeyboardInterrupt\u001b[0m                         Traceback (most recent call last)",
      "\u001b[0;32m<ipython-input-16-9508b475fa0b>\u001b[0m in \u001b[0;36m<module>\u001b[0;34m\u001b[0m\n\u001b[0;32m----> 1\u001b[0;31m \u001b[0mget_stats_for\u001b[0m\u001b[0;34m(\u001b[0m\u001b[0mmodel_wrapped\u001b[0m\u001b[0;34m)\u001b[0m\u001b[0;34m\u001b[0m\u001b[0;34m\u001b[0m\u001b[0m\n\u001b[0m",
      "\u001b[0;32m<ipython-input-15-3a094855bb7b>\u001b[0m in \u001b[0;36mget_stats_for\u001b[0;34m(model, n_epochs)\u001b[0m\n\u001b[1;32m      9\u001b[0m     \u001b[0m_model\u001b[0m\u001b[0;34m,\u001b[0m \u001b[0moptimizer\u001b[0m \u001b[0;34m=\u001b[0m \u001b[0muse_model\u001b[0m\u001b[0;34m(\u001b[0m\u001b[0mmodel\u001b[0m\u001b[0;34m)\u001b[0m\u001b[0;34m\u001b[0m\u001b[0;34m\u001b[0m\u001b[0m\n\u001b[1;32m     10\u001b[0m     \u001b[0;32mfor\u001b[0m \u001b[0mepoch\u001b[0m \u001b[0;32min\u001b[0m \u001b[0mrange\u001b[0m\u001b[0;34m(\u001b[0m\u001b[0;36m1\u001b[0m\u001b[0;34m,\u001b[0m \u001b[0mn_epochs\u001b[0m \u001b[0;34m+\u001b[0m \u001b[0;36m1\u001b[0m\u001b[0;34m)\u001b[0m\u001b[0;34m:\u001b[0m\u001b[0;34m\u001b[0m\u001b[0;34m\u001b[0m\u001b[0m\n\u001b[0;32m---> 11\u001b[0;31m         \u001b[0mtrain\u001b[0m\u001b[0;34m(\u001b[0m\u001b[0m_model\u001b[0m\u001b[0;34m,\u001b[0m \u001b[0moptimizer\u001b[0m\u001b[0;34m,\u001b[0m \u001b[0mepoch\u001b[0m\u001b[0;34m)\u001b[0m\u001b[0;34m\u001b[0m\u001b[0;34m\u001b[0m\u001b[0m\n\u001b[0m\u001b[1;32m     12\u001b[0m         \u001b[0mpct_correct\u001b[0m \u001b[0;34m=\u001b[0m \u001b[0mtest\u001b[0m\u001b[0;34m(\u001b[0m\u001b[0m_model\u001b[0m\u001b[0;34m)\u001b[0m\u001b[0;34m\u001b[0m\u001b[0;34m\u001b[0m\u001b[0m\n\u001b[1;32m     13\u001b[0m     \u001b[0;32mreturn\u001b[0m \u001b[0mpct_correct\u001b[0m\u001b[0;34m\u001b[0m\u001b[0;34m\u001b[0m\u001b[0m\n",
      "\u001b[0;32m<ipython-input-11-0ff9b8372568>\u001b[0m in \u001b[0;36mtrain\u001b[0;34m(model, optimizer, epoch_num)\u001b[0m\n\u001b[1;32m      2\u001b[0m     \u001b[0mmodel\u001b[0m\u001b[0;34m.\u001b[0m\u001b[0mtrain\u001b[0m\u001b[0;34m(\u001b[0m\u001b[0;34m)\u001b[0m\u001b[0;34m\u001b[0m\u001b[0;34m\u001b[0m\u001b[0m\n\u001b[1;32m      3\u001b[0m     \u001b[0;32mfor\u001b[0m \u001b[0mbatch_idx\u001b[0m\u001b[0;34m,\u001b[0m \u001b[0;34m(\u001b[0m\u001b[0mdata\u001b[0m\u001b[0;34m,\u001b[0m \u001b[0mtarget\u001b[0m\u001b[0;34m)\u001b[0m \u001b[0;32min\u001b[0m \u001b[0menumerate\u001b[0m\u001b[0;34m(\u001b[0m\u001b[0mtrain_loader\u001b[0m\u001b[0;34m)\u001b[0m\u001b[0;34m:\u001b[0m\u001b[0;34m\u001b[0m\u001b[0;34m\u001b[0m\u001b[0m\n\u001b[0;32m----> 4\u001b[0;31m         \u001b[0mdata\u001b[0m\u001b[0;34m,\u001b[0m \u001b[0mtarget\u001b[0m \u001b[0;34m=\u001b[0m \u001b[0mdata\u001b[0m\u001b[0;34m.\u001b[0m\u001b[0mto\u001b[0m\u001b[0;34m(\u001b[0m\u001b[0mdevice\u001b[0m\u001b[0;34m)\u001b[0m\u001b[0;34m,\u001b[0m \u001b[0mtarget\u001b[0m\u001b[0;34m.\u001b[0m\u001b[0mto\u001b[0m\u001b[0;34m(\u001b[0m\u001b[0mdevice\u001b[0m\u001b[0;34m)\u001b[0m\u001b[0;34m\u001b[0m\u001b[0;34m\u001b[0m\u001b[0m\n\u001b[0m\u001b[1;32m      5\u001b[0m         \u001b[0moptimizer\u001b[0m\u001b[0;34m.\u001b[0m\u001b[0mzero_grad\u001b[0m\u001b[0;34m(\u001b[0m\u001b[0;34m)\u001b[0m\u001b[0;34m\u001b[0m\u001b[0;34m\u001b[0m\u001b[0m\n\u001b[1;32m      6\u001b[0m         \u001b[0moutput\u001b[0m \u001b[0;34m=\u001b[0m \u001b[0mmodel\u001b[0m\u001b[0;34m(\u001b[0m\u001b[0mdata\u001b[0m\u001b[0;34m)\u001b[0m\u001b[0;34m\u001b[0m\u001b[0;34m\u001b[0m\u001b[0m\n",
      "\u001b[0;31mKeyboardInterrupt\u001b[0m: "
     ]
    }
   ],
   "source": [
    "get_stats_for(model_wrapped)"
   ]
  },
  {
   "cell_type": "code",
   "execution_count": null,
   "metadata": {},
   "outputs": [],
   "source": []
  }
 ],
 "metadata": {
  "kernelspec": {
   "display_name": "Python (dl)",
   "language": "python",
   "name": "dl"
  },
  "language_info": {
   "codemirror_mode": {
    "name": "ipython",
    "version": 3
   },
   "file_extension": ".py",
   "mimetype": "text/x-python",
   "name": "python",
   "nbconvert_exporter": "python",
   "pygments_lexer": "ipython3",
   "version": "3.6.7"
  }
 },
 "nbformat": 4,
 "nbformat_minor": 2
}
