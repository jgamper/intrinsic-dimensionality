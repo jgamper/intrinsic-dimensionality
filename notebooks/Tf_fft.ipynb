{
 "cells": [
  {
   "cell_type": "code",
   "execution_count": 1,
   "metadata": {},
   "outputs": [
    {
     "name": "stderr",
     "output_type": "stream",
     "text": [
      "Using TensorFlow backend.\n"
     ]
    }
   ],
   "source": [
    "import numpy as np\n",
    "import tensorflow as tf\n",
    "from keras.engine import Layer\n",
    "import numpy as np"
   ]
  },
  {
   "cell_type": "code",
   "execution_count": 2,
   "metadata": {},
   "outputs": [
    {
     "data": {
      "text/plain": [
       "True"
      ]
     },
     "execution_count": 2,
     "metadata": {},
     "output_type": "execute_result"
    }
   ],
   "source": [
    "tf.executing_eagerly()"
   ]
  },
  {
   "cell_type": "markdown",
   "metadata": {},
   "source": [
    "# TF fastfood transform"
   ]
  },
  {
   "cell_type": "code",
   "execution_count": 120,
   "metadata": {},
   "outputs": [],
   "source": [
    "dd = 4\n",
    "DD = 32\n",
    "x = np.array([ 1.6817038, 0.94111705, -0.4930046, 0.9057069 ])"
   ]
  },
  {
   "cell_type": "code",
   "execution_count": 136,
   "metadata": {},
   "outputs": [
    {
     "name": "stdout",
     "output_type": "stream",
     "text": [
      "tf.Tensor([ 1.6817038   0.94111705 -0.4930046   0.9057069 ], shape=(4,), dtype=float32)\n",
      "(4,)\n"
     ]
    }
   ],
   "source": [
    "x_in = tf.cast(tf.convert_to_tensor(x), \"float32\")\n",
    "print(x_in)\n",
    "print(x_in.shape)"
   ]
  },
  {
   "cell_type": "code",
   "execution_count": 137,
   "metadata": {},
   "outputs": [
    {
     "name": "stdout",
     "output_type": "stream",
     "text": [
      "5\n",
      "32\n"
     ]
    }
   ],
   "source": [
    "ll = int(np.ceil(np.log(DD) / np.log(2)))\n",
    "print(ll)\n",
    "LL = 2 ** ll\n",
    "print(LL)"
   ]
  },
  {
   "cell_type": "code",
   "execution_count": 138,
   "metadata": {},
   "outputs": [],
   "source": [
    "BB = tf.dtypes.cast(tf.random.uniform((LL,), 0, 2), \"int32\") * 2 - 1\n",
    "BB = tf.dtypes.cast(BB, \"float32\")"
   ]
  },
  {
   "cell_type": "code",
   "execution_count": 139,
   "metadata": {},
   "outputs": [
    {
     "name": "stdout",
     "output_type": "stream",
     "text": [
      "tf.Tensor(\n",
      "[-1.  1. -1.  1. -1. -1.  1.  1.  1.  1.  1. -1. -1.  1. -1.  1.  1.  1.\n",
      " -1.  1.  1. -1. -1. -1.  1. -1.  1. -1. -1. -1. -1. -1.], shape=(32,), dtype=float32)\n",
      "(32,)\n"
     ]
    }
   ],
   "source": [
    "print(BB)\n",
    "print(BB.shape)"
   ]
  },
  {
   "cell_type": "code",
   "execution_count": 140,
   "metadata": {},
   "outputs": [],
   "source": [
    "Pi =  tf.dtypes.cast(tf.random.shuffle(tf.range(LL)), \"float32\")"
   ]
  },
  {
   "cell_type": "code",
   "execution_count": 141,
   "metadata": {},
   "outputs": [
    {
     "name": "stdout",
     "output_type": "stream",
     "text": [
      "tf.Tensor(\n",
      "[17. 22.  3.  9. 27. 30.  8. 18.  6.  4. 15. 14. 13. 12. 23. 29.  0.  2.\n",
      " 19.  1. 10. 24. 20. 26. 11. 21. 31.  7.  5. 28. 16. 25.], shape=(32,), dtype=float32)\n",
      "(32,)\n"
     ]
    }
   ],
   "source": [
    "print(Pi)\n",
    "print(Pi.shape)"
   ]
  },
  {
   "cell_type": "code",
   "execution_count": 142,
   "metadata": {},
   "outputs": [
    {
     "name": "stdout",
     "output_type": "stream",
     "text": [
      "tf.Tensor(\n",
      "[-0.40537232 -1.244427    0.2987391  -0.26981288 -0.52363783  0.6045592\n",
      " -1.0358177  -0.08275922 -0.5311175  -0.07093018 -1.7000825   0.2783971\n",
      " -0.08936618  0.5425918   1.7723031  -0.804397    0.02977141 -0.10901482\n",
      "  1.3527436   0.83316445 -0.83823496  1.3441519   0.23904982 -0.9521225\n",
      " -0.0266678  -1.2736138   0.8829005  -0.39783862  1.25307    -2.3675294\n",
      "  1.2611406   0.14129047], shape=(32,), dtype=float32)\n",
      "(32,)\n"
     ]
    }
   ],
   "source": [
    "GG = tf.random.normal((LL,))\n",
    "print(GG)\n",
    "print(GG.shape)"
   ]
  },
  {
   "cell_type": "code",
   "execution_count": 143,
   "metadata": {},
   "outputs": [
    {
     "name": "stdout",
     "output_type": "stream",
     "text": [
      "tf.Tensor(30.091146, shape=(), dtype=float32)\n",
      "()\n"
     ]
    }
   ],
   "source": [
    "divisor = tf.sqrt(LL * tf.reduce_sum(tf.pow(GG, 2)))\n",
    "print(divisor)\n",
    "print(divisor.shape)"
   ]
  },
  {
   "cell_type": "code",
   "execution_count": 144,
   "metadata": {},
   "outputs": [],
   "source": [
    "fastfood_vars = [BB, Pi, GG, divisor]"
   ]
  },
  {
   "cell_type": "code",
   "execution_count": 145,
   "metadata": {},
   "outputs": [
    {
     "name": "stdout",
     "output_type": "stream",
     "text": [
      "tf.Tensor(\n",
      "[ 1.6817038   0.94111705 -0.4930046   0.9057069   0.          0.\n",
      "  0.          0.          0.          0.          0.          0.\n",
      "  0.          0.          0.          0.          0.          0.\n",
      "  0.          0.          0.          0.          0.          0.\n",
      "  0.          0.          0.          0.          0.          0.\n",
      "  0.          0.        ], shape=(32,), dtype=float32)\n",
      "(32,)\n"
     ]
    }
   ],
   "source": [
    "dd_pad = tf.pad(x_in, [[0, LL - dd]])\n",
    "print(dd_pad)\n",
    "print(dd_pad.shape)"
   ]
  },
  {
   "cell_type": "code",
   "execution_count": 146,
   "metadata": {},
   "outputs": [
    {
     "name": "stdout",
     "output_type": "stream",
     "text": [
      "tf.Tensor(\n",
      "[-1.6817038   0.94111705  0.4930046   0.9057069  -0.         -0.\n",
      "  0.          0.          0.          0.          0.         -0.\n",
      " -0.          0.         -0.          0.          0.          0.\n",
      " -0.          0.          0.         -0.         -0.         -0.\n",
      "  0.         -0.          0.         -0.         -0.         -0.\n",
      " -0.         -0.        ], shape=(32,), dtype=float32)\n",
      "(32,)\n"
     ]
    }
   ],
   "source": [
    "mul_1 = tf.multiply(BB, dd_pad)\n",
    "print(mul_1)\n",
    "print(mul_1.shape)"
   ]
  },
  {
   "cell_type": "code",
   "execution_count": 147,
   "metadata": {},
   "outputs": [],
   "source": [
    "ret = tf.divide(tf.slice(mul_1, [0], [DD]), divisor * np.sqrt(float(DD) / LL))"
   ]
  },
  {
   "cell_type": "code",
   "execution_count": 149,
   "metadata": {},
   "outputs": [
    {
     "data": {
      "text/plain": [
       "<tf.Tensor: shape=(32,), dtype=float32, numpy=\n",
       "array([-0.055887  ,  0.03127555,  0.01638371,  0.03009878, -0.        ,\n",
       "       -0.        ,  0.        ,  0.        ,  0.        ,  0.        ,\n",
       "        0.        , -0.        , -0.        ,  0.        , -0.        ,\n",
       "        0.        ,  0.        ,  0.        , -0.        ,  0.        ,\n",
       "        0.        , -0.        , -0.        , -0.        ,  0.        ,\n",
       "       -0.        ,  0.        , -0.        , -0.        , -0.        ,\n",
       "       -0.        , -0.        ], dtype=float32)>"
      ]
     },
     "execution_count": 149,
     "metadata": {},
     "output_type": "execute_result"
    }
   ],
   "source": [
    "ret"
   ]
  },
  {
   "cell_type": "code",
   "execution_count": null,
   "metadata": {},
   "outputs": [],
   "source": []
  }
 ],
 "metadata": {
  "kernelspec": {
   "display_name": "tf_gpu",
   "language": "python",
   "name": "tf_gpu"
  },
  "language_info": {
   "codemirror_mode": {
    "name": "ipython",
    "version": 3
   },
   "file_extension": ".py",
   "mimetype": "text/x-python",
   "name": "python",
   "nbconvert_exporter": "python",
   "pygments_lexer": "ipython3",
   "version": "3.6.7"
  }
 },
 "nbformat": 4,
 "nbformat_minor": 2
}
